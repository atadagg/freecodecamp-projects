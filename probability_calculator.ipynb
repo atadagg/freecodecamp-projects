{
 "cells": [
  {
   "cell_type": "code",
   "execution_count": 11,
   "metadata": {},
   "outputs": [
    {
     "name": "stdout",
     "output_type": "stream",
     "text": [
      "0.36415\n"
     ]
    }
   ],
   "source": [
    "import random\n",
    "\n",
    "class Hat:\n",
    "\n",
    "    def __init__(self, **kwargs):\n",
    "        self.contents = []\n",
    "        for key, value in kwargs.items():\n",
    "            for i in range(value):\n",
    "                self.contents.append(key)\n",
    "    \n",
    "    def draw(self, num_balls):\n",
    "        if num_balls >= len(self.contents):\n",
    "            return self.contents.copy()\n",
    "        else:\n",
    "            new_contents = self.contents.copy()\n",
    "            balls = []\n",
    "            for i in range(num_balls):\n",
    "                ball = random.choice(new_contents)\n",
    "                balls.append(ball)\n",
    "                new_contents.remove(ball)\n",
    "            return balls\n",
    "\n",
    "            \n",
    "def experiment(hat, expected_balls, num_balls_drawn, num_experiments):\n",
    "    num_success = 0\n",
    "    for _ in range(num_experiments):\n",
    "        drawn_balls = hat.draw(num_balls_drawn)\n",
    "        success = True\n",
    "        remaining_balls = drawn_balls.copy() \n",
    "        \n",
    "        for color, count in expected_balls.items():\n",
    "            if remaining_balls.count(color) < count:\n",
    "                success = False\n",
    "                break\n",
    "            \n",
    "            remaining_balls = [ball for ball in remaining_balls if ball != color]\n",
    "        \n",
    "        if success:\n",
    "            num_success += 1\n",
    "    return num_success / num_experiments\n",
    "\n",
    "\n",
    "\n",
    "\n",
    "hat = Hat(black=6, red=4, green=3)\n",
    "probability = experiment(hat=hat,\n",
    "                  expected_balls={\"red\":2,\"green\":1},\n",
    "                  num_balls_drawn=5,\n",
    "                  num_experiments=20000)\n",
    "\n",
    "print(probability)\n"
   ]
  }
 ],
 "metadata": {
  "kernelspec": {
   "display_name": "Python 3",
   "language": "python",
   "name": "python3"
  },
  "language_info": {
   "codemirror_mode": {
    "name": "ipython",
    "version": 3
   },
   "file_extension": ".py",
   "mimetype": "text/x-python",
   "name": "python",
   "nbconvert_exporter": "python",
   "pygments_lexer": "ipython3",
   "version": "3.10.2"
  },
  "orig_nbformat": 4
 },
 "nbformat": 4,
 "nbformat_minor": 2
}
