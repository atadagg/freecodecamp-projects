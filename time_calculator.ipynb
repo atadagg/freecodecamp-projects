{
 "cells": [
  {
   "cell_type": "code",
   "execution_count": 30,
   "metadata": {},
   "outputs": [
    {
     "data": {
      "text/plain": [
       "'0:01 AM (next day)'"
      ]
     },
     "execution_count": 30,
     "metadata": {},
     "output_type": "execute_result"
    }
   ],
   "source": [
    "def add_time(start_time, duration, day=None):\n",
    "\n",
    "    start_time = start_time.split()\n",
    "    time = start_time[0].split(\":\") # splitting the time into hours and minutes\n",
    "    start_minutes = 0\n",
    "    new_minutes = 0\n",
    "    hour = 0\n",
    "    minute = 0\n",
    "    days_later = \"\"\n",
    "    week = [\"Monday\", \"Tuesday\", \"Wednesday\", \"Thursday\", \"Friday\", \"Saturday\", \"Sunday\"]\n",
    "    answer = \"\"\n",
    "\n",
    "\n",
    "    if start_time[1] == \"AM\":\n",
    "        start_minutes += int(time[0]) * 60 + int(time[1])\n",
    "    elif start_time[1] == \"PM\":\n",
    "        start_minutes += int(time[0]) * 60 + int(time[1])\n",
    "        start_minutes += (12 * 60) # adding all the minutes together from rest of the day\n",
    "    else:\n",
    "        return(\"Error 1\")\n",
    "\n",
    "    if start_minutes > 1440: # if time is bigger than the entire day 24*60\n",
    "        return (\"Error 2\")\n",
    "\n",
    "    duration = duration.split(\":\")\n",
    "    new_minutes += int(duration[0]) * 60 + int(duration[1])\n",
    "\n",
    "    new_minutes += start_minutes\n",
    "\n",
    "    n = int(new_minutes/1440) # 24*60\n",
    "    if n == 1:\n",
    "        new_minutes -= n*24*60\n",
    "        days_later = f\" (next day)\"\n",
    "\n",
    "    elif n > 0:\n",
    "        new_minutes -= n*24*60\n",
    "        days_later = f\" ({n} days later)\"\n",
    "    \n",
    "\n",
    "    \n",
    "    if new_minutes > 720: # 12*60\n",
    "        new_minutes -= 720\n",
    "        hour = int(new_minutes/60)\n",
    "        if hour == 0:\n",
    "            hour = 12\n",
    "        minute = new_minutes % 60\n",
    "        if len(str(minute)) == 1:\n",
    "            minute = (\"0\" + str(minute))     \n",
    "        answer = (str(hour) + \":\" + str(minute) + \" PM\")\n",
    "    else:\n",
    "        hour = int(new_minutes/60)\n",
    "        if hour == 0:\n",
    "            hour = 12\n",
    "        minute = new_minutes % 60\n",
    "        if len(str(minute)) == 1:\n",
    "            minute = (\"0\" + str(minute))\n",
    "        \n",
    "        answer = (str(hour) + \":\" + str(minute) + \" AM\")  \n",
    "\n",
    "    if day != None:\n",
    "        day = day.lower()\n",
    "        day = day.capitalize()\n",
    "\n",
    "        i = week.index(day)\n",
    "        i = (i + n) % 7\n",
    "        day = week[i]\n",
    "\n",
    "        answer = (answer + \", \" + day)\n",
    "\n",
    "    answer += days_later\n",
    "\n",
    "    return answer\n",
    "\n",
    "    print (answer)\n",
    "add_time(\"11:55 PM\" , \"0:6\")\n",
    "\n"
   ]
  },
  {
   "cell_type": "code",
   "execution_count": null,
   "metadata": {},
   "outputs": [],
   "source": [
    "start_time = [\"11:30\", \"AM\"]\n",
    "time = start_time[0].split(\":\")\n",
    "print(time)"
   ]
  }
 ],
 "metadata": {
  "kernelspec": {
   "display_name": "Python 3",
   "language": "python",
   "name": "python3"
  },
  "language_info": {
   "codemirror_mode": {
    "name": "ipython",
    "version": 3
   },
   "file_extension": ".py",
   "mimetype": "text/x-python",
   "name": "python",
   "nbconvert_exporter": "python",
   "pygments_lexer": "ipython3",
   "version": "3.10.2"
  },
  "orig_nbformat": 4
 },
 "nbformat": 4,
 "nbformat_minor": 2
}
