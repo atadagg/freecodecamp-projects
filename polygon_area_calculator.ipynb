{
 "cells": [
  {
   "cell_type": "code",
   "execution_count": 9,
   "metadata": {},
   "outputs": [
    {
     "name": "stdout",
     "output_type": "stream",
     "text": [
      "50\n",
      "26\n",
      "Rectangle(width=3, height=10)\n",
      "81\n",
      "5.656854249492381\n",
      "****\n",
      "****\n",
      "****\n",
      "****\n",
      "\n",
      "Square(side=4)\n"
     ]
    }
   ],
   "source": [
    "class Rectangle:\n",
    "    \n",
    "    def __init__(self, width, height):\n",
    "        self.width = width\n",
    "        self.height = height\n",
    "    \n",
    "    def set_width(self, width):\n",
    "        self.width = width\n",
    "    \n",
    "    def set_height(self, height):\n",
    "        self.height = height\n",
    "\n",
    "    def get_area(self):\n",
    "        return self.width * self.height\n",
    "    \n",
    "    def get_perimeter(self):\n",
    "        return 2 * self.width + 2 * self.height\n",
    "\n",
    "    def get_diagonal(self):\n",
    "        return (self.width ** 2 + self.height ** 2) ** .5\n",
    "\n",
    "    def get_picture(self):\n",
    "        string = \"\"\n",
    "        if self.width > 50 or self.height > 50:\n",
    "            return (\"Too big for picture.\")\n",
    "        else:\n",
    "            for i in range(self.height):\n",
    "                string += \"*\" * self.width + \"\\n\"\n",
    "            return string\n",
    "    def get_amount_inside(self, shape):\n",
    "        return (self.width//shape.width) * (self.height//shape.height)\n",
    "    \n",
    "    def __repr__(self):\n",
    "        return (\"Rectangle(width=\" + str(self.width) + \", height=\" + str(self.height) + \")\")\n",
    "\n",
    "\n",
    "class Square(Rectangle):\n",
    "\n",
    "    def __init__(self, side):\n",
    "        self.width = side\n",
    "        self.height = side\n",
    "\n",
    "    def set_side(self,side):\n",
    "        self.width = side\n",
    "        self.height = side\n",
    "    \n",
    "    def set_width(self, width):\n",
    "        self.width = width\n",
    "        self.height = width\n",
    "\n",
    "    def set_height(self, height):\n",
    "        self.height = height\n",
    "        self.width = height\n",
    "\n",
    "    def __repr__(self):\n",
    "        return (\"Square(side=\" + str(self.width) + \")\")\n",
    "\n"
   ]
  }
 ],
 "metadata": {
  "kernelspec": {
   "display_name": "Python 3",
   "language": "python",
   "name": "python3"
  },
  "language_info": {
   "codemirror_mode": {
    "name": "ipython",
    "version": 3
   },
   "file_extension": ".py",
   "mimetype": "text/x-python",
   "name": "python",
   "nbconvert_exporter": "python",
   "pygments_lexer": "ipython3",
   "version": "3.10.2"
  },
  "orig_nbformat": 4
 },
 "nbformat": 4,
 "nbformat_minor": 2
}
